{
 "cells": [
  {
   "cell_type": "code",
   "execution_count": 1,
   "id": "3a2eb86b",
   "metadata": {},
   "outputs": [],
   "source": [
    "\n",
    "import requests\n",
    "import json\n",
    "from sqlalchemy import create_engine\n",
    "from sqlalchemy.ext.declarative import declarative_base\n",
    "from sqlalchemy import Column, Integer, String, Float\n",
    "from config import nps_key\n"
   ]
  },
  {
   "cell_type": "code",
   "execution_count": 2,
   "id": "eaa52dd1",
   "metadata": {},
   "outputs": [],
   "source": [
    "Base = declarative_base()\n",
    "engine = create_engine(\"sqlite:///npstestdata.sqlite\")\n",
    "conn = engine.connect()\n",
    "Base.metadata.create_all(engine)"
   ]
  },
  {
   "cell_type": "code",
   "execution_count": 3,
   "id": "a595b12b",
   "metadata": {},
   "outputs": [],
   "source": [
    "import urllib.request, json\n",
    "\n",
    "base_url = \"https://developer.nps.gov/api/v1/parks?\"\n",
    "api_key = nps_key\n"
   ]
  },
  {
   "cell_type": "code",
   "execution_count": 4,
   "id": "f57b2a50",
   "metadata": {},
   "outputs": [],
   "source": [
    "indices = [0,50,100,150,200,250,300,350,400,450]\n",
    "\n",
    "parksdata = []\n"
   ]
  },
  {
   "cell_type": "code",
   "execution_count": 11,
   "id": "cb28dce9",
   "metadata": {},
   "outputs": [
    {
     "ename": "UnmappedInstanceError",
     "evalue": "Class 'builtins.str' is not mapped",
     "output_type": "error",
     "traceback": [
      "\u001b[1;31m---------------------------------------------------------------------------\u001b[0m",
      "\u001b[1;31mAttributeError\u001b[0m                            Traceback (most recent call last)",
      "\u001b[1;32mc:\\Users\\Hannah\\anaconda3\\envs\\PythonData\\lib\\site-packages\\sqlalchemy\\orm\\session.py\u001b[0m in \u001b[0;36madd\u001b[1;34m(self, instance, _warn)\u001b[0m\n\u001b[0;32m   2598\u001b[0m         \u001b[1;32mtry\u001b[0m\u001b[1;33m:\u001b[0m\u001b[1;33m\u001b[0m\u001b[1;33m\u001b[0m\u001b[0m\n\u001b[1;32m-> 2599\u001b[1;33m             \u001b[0mstate\u001b[0m \u001b[1;33m=\u001b[0m \u001b[0mattributes\u001b[0m\u001b[1;33m.\u001b[0m\u001b[0minstance_state\u001b[0m\u001b[1;33m(\u001b[0m\u001b[0minstance\u001b[0m\u001b[1;33m)\u001b[0m\u001b[1;33m\u001b[0m\u001b[1;33m\u001b[0m\u001b[0m\n\u001b[0m\u001b[0;32m   2600\u001b[0m         \u001b[1;32mexcept\u001b[0m \u001b[0mexc\u001b[0m\u001b[1;33m.\u001b[0m\u001b[0mNO_STATE\u001b[0m \u001b[1;32mas\u001b[0m \u001b[0merr\u001b[0m\u001b[1;33m:\u001b[0m\u001b[1;33m\u001b[0m\u001b[1;33m\u001b[0m\u001b[0m\n",
      "\u001b[1;31mAttributeError\u001b[0m: 'str' object has no attribute '_sa_instance_state'",
      "\nThe above exception was the direct cause of the following exception:\n",
      "\u001b[1;31mUnmappedInstanceError\u001b[0m                     Traceback (most recent call last)",
      "\u001b[1;32m~\\AppData\\Local\\Temp\\ipykernel_46240\\3550224667.py\u001b[0m in \u001b[0;36m<module>\u001b[1;34m\u001b[0m\n\u001b[0;32m     17\u001b[0m         \u001b[0msession\u001b[0m \u001b[1;33m=\u001b[0m \u001b[0mSession\u001b[0m\u001b[1;33m(\u001b[0m\u001b[0mbind\u001b[0m\u001b[1;33m=\u001b[0m\u001b[0mengine\u001b[0m\u001b[1;33m)\u001b[0m\u001b[1;33m\u001b[0m\u001b[1;33m\u001b[0m\u001b[0m\n\u001b[0;32m     18\u001b[0m \u001b[1;33m\u001b[0m\u001b[0m\n\u001b[1;32m---> 19\u001b[1;33m         \u001b[0msession\u001b[0m\u001b[1;33m.\u001b[0m\u001b[0madd\u001b[0m\u001b[1;33m(\u001b[0m\u001b[1;34m\"parksdata\"\u001b[0m\u001b[1;33m)\u001b[0m\u001b[1;33m\u001b[0m\u001b[1;33m\u001b[0m\u001b[0m\n\u001b[0m\u001b[0;32m     20\u001b[0m \u001b[1;33m\u001b[0m\u001b[0m\n\u001b[0;32m     21\u001b[0m         \u001b[0msession\u001b[0m\u001b[1;33m.\u001b[0m\u001b[0mcommit\u001b[0m\u001b[1;33m(\u001b[0m\u001b[1;33m)\u001b[0m\u001b[1;33m\u001b[0m\u001b[1;33m\u001b[0m\u001b[0m\n",
      "\u001b[1;32mc:\\Users\\Hannah\\anaconda3\\envs\\PythonData\\lib\\site-packages\\sqlalchemy\\orm\\session.py\u001b[0m in \u001b[0;36madd\u001b[1;34m(self, instance, _warn)\u001b[0m\n\u001b[0;32m   2601\u001b[0m             util.raise_(\n\u001b[0;32m   2602\u001b[0m                 \u001b[0mexc\u001b[0m\u001b[1;33m.\u001b[0m\u001b[0mUnmappedInstanceError\u001b[0m\u001b[1;33m(\u001b[0m\u001b[0minstance\u001b[0m\u001b[1;33m)\u001b[0m\u001b[1;33m,\u001b[0m\u001b[1;33m\u001b[0m\u001b[1;33m\u001b[0m\u001b[0m\n\u001b[1;32m-> 2603\u001b[1;33m                 \u001b[0mreplace_context\u001b[0m\u001b[1;33m=\u001b[0m\u001b[0merr\u001b[0m\u001b[1;33m,\u001b[0m\u001b[1;33m\u001b[0m\u001b[1;33m\u001b[0m\u001b[0m\n\u001b[0m\u001b[0;32m   2604\u001b[0m             )\n\u001b[0;32m   2605\u001b[0m \u001b[1;33m\u001b[0m\u001b[0m\n",
      "\u001b[1;32mc:\\Users\\Hannah\\anaconda3\\envs\\PythonData\\lib\\site-packages\\sqlalchemy\\util\\compat.py\u001b[0m in \u001b[0;36mraise_\u001b[1;34m(***failed resolving arguments***)\u001b[0m\n\u001b[0;32m    205\u001b[0m \u001b[1;33m\u001b[0m\u001b[0m\n\u001b[0;32m    206\u001b[0m         \u001b[1;32mtry\u001b[0m\u001b[1;33m:\u001b[0m\u001b[1;33m\u001b[0m\u001b[1;33m\u001b[0m\u001b[0m\n\u001b[1;32m--> 207\u001b[1;33m             \u001b[1;32mraise\u001b[0m \u001b[0mexception\u001b[0m\u001b[1;33m\u001b[0m\u001b[1;33m\u001b[0m\u001b[0m\n\u001b[0m\u001b[0;32m    208\u001b[0m         \u001b[1;32mfinally\u001b[0m\u001b[1;33m:\u001b[0m\u001b[1;33m\u001b[0m\u001b[1;33m\u001b[0m\u001b[0m\n\u001b[0;32m    209\u001b[0m             \u001b[1;31m# credit to\u001b[0m\u001b[1;33m\u001b[0m\u001b[1;33m\u001b[0m\u001b[1;33m\u001b[0m\u001b[0m\n",
      "\u001b[1;31mUnmappedInstanceError\u001b[0m: Class 'builtins.str' is not mapped"
     ]
    }
   ],
   "source": [
    "for index in indices: \n",
    "    url = (f\"{base_url}&start=0&api_key={api_key}\")\n",
    "    response = requests.get(url).json()\n",
    "\n",
    "    data = response['data']\n",
    "    \n",
    "    for i in range(len(data)):\n",
    "        \n",
    "        # name = data[i]['fullName']\n",
    "        # description = data[i]['description']\n",
    "        # latitude = data[i]['latitude']\n",
    "        # longitude = data[i]['longitude']\n",
    "        \n",
    "        entry = data[i]\n",
    "\n",
    "        from sqlalchemy.orm import Session\n",
    "        session = Session(bind=engine)\n",
    "\n",
    "        session.add(\"parksdata\")\n",
    "\n",
    "        session.commit()\n",
    "        \n",
    "        \n",
    "\n",
    "\n",
    "    \n",
    "    \n",
    "    "
   ]
  },
  {
   "cell_type": "code",
   "execution_count": 9,
   "id": "0d27f9a8",
   "metadata": {},
   "outputs": [
    {
     "name": "stdout",
     "output_type": "stream",
     "text": [
      "{'name': 'Green Springs', 'description': 'Green Springs National Historic Landmark District in Virginia’s Piedmont encompasses over 14,000 acres. Its landscapes and structures, privately owned today but viewable from public roads, offer a continuum of rural vernacular architecture with minimal alteration. Many of the farmsteads, often dating to the 19th century and connecting to one another visually, are preserved through easements.', 'latitude': '38.037099', 'longitude': '-78.189823'}\n"
     ]
    }
   ],
   "source": [
    "print(parksdata[200])"
   ]
  },
  {
   "cell_type": "code",
   "execution_count": 49,
   "id": "79e669c4",
   "metadata": {},
   "outputs": [
    {
     "name": "stdout",
     "output_type": "stream",
     "text": [
      "Coltsville National Historical Park\n",
      "Congaree National Park\n",
      "Constitution Gardens\n",
      "Coronado National Memorial\n",
      "Cowpens National Battlefield\n",
      "Crater Lake National Park\n",
      "Craters Of The Moon National Monument & Preserve\n",
      "Cumberland Gap National Historical Park\n",
      "Cumberland Island National Seashore\n",
      "Curecanti National Recreation Area\n",
      "Cuyahoga Valley National Park\n",
      "César E. Chávez National Monument\n",
      "Dayton Aviation Heritage National Historical Park\n",
      "De Soto National Memorial\n",
      "Death Valley National Park\n",
      "Delaware Water Gap National Recreation Area\n",
      "Denali National Park & Preserve\n",
      "Devils Postpile National Monument\n",
      "Devils Tower National Monument\n",
      "Dinosaur National Monument\n",
      "Dry Tortugas National Park\n",
      "Dwight D. Eisenhower Memorial\n",
      "Ebey's Landing National Historical Reserve\n",
      "Edgar Allan Poe National Historic Site\n",
      "Effigy Mounds National Monument\n",
      "Eisenhower National Historic Site\n",
      "El Camino Real de Tierra Adentro National Historic Trail\n",
      "El Camino Real de los Tejas National Historic Trail\n",
      "El Malpais National Monument\n",
      "El Morro National Monument\n",
      "Eleanor Roosevelt National Historic Site\n",
      "Ellis Island Part of Statue of Liberty National Monument\n",
      "Eugene O'Neill National Historic Site\n",
      "Everglades National Park\n",
      "Federal Hall National Memorial\n",
      "Fire Island National Seashore\n",
      "First Ladies National Historic Site\n",
      "First State National Historical Park\n",
      "Flight 93 National Memorial\n",
      "Florissant Fossil Beds National Monument\n",
      "Ford's Theatre\n",
      "Fort Bowie National Historic Site\n",
      "Fort Davis National Historic Site\n",
      "Fort Donelson National Battlefield\n",
      "Fort Dupont Park\n",
      "Fort Foote Park\n",
      "Fort Frederica National Monument\n",
      "Fort Laramie National Historic Site\n",
      "Fort Larned National Historic Site\n",
      "Fort Matanzas National Monument\n"
     ]
    }
   ],
   "source": [
    "for i in range(len(data)):\n",
    "    print(data[i]['fullName'])"
   ]
  },
  {
   "cell_type": "code",
   "execution_count": 35,
   "id": "3a8fd334",
   "metadata": {},
   "outputs": [
    {
     "data": {
      "text/plain": [
       "'Coltsville National Historical Park'"
      ]
     },
     "execution_count": 35,
     "metadata": {},
     "output_type": "execute_result"
    }
   ],
   "source": [
    "data = response['data']\n",
    "\n",
    "data[0]['fullName']"
   ]
  },
  {
   "cell_type": "code",
   "execution_count": 10,
   "id": "3b250d72",
   "metadata": {},
   "outputs": [
    {
     "ename": "UnmappedInstanceError",
     "evalue": "Class 'builtins.str' is not mapped",
     "output_type": "error",
     "traceback": [
      "\u001b[1;31m---------------------------------------------------------------------------\u001b[0m",
      "\u001b[1;31mAttributeError\u001b[0m                            Traceback (most recent call last)",
      "\u001b[1;32mc:\\Users\\Hannah\\anaconda3\\envs\\PythonData\\lib\\site-packages\\sqlalchemy\\orm\\session.py\u001b[0m in \u001b[0;36madd\u001b[1;34m(self, instance, _warn)\u001b[0m\n\u001b[0;32m   2598\u001b[0m         \u001b[1;32mtry\u001b[0m\u001b[1;33m:\u001b[0m\u001b[1;33m\u001b[0m\u001b[1;33m\u001b[0m\u001b[0m\n\u001b[1;32m-> 2599\u001b[1;33m             \u001b[0mstate\u001b[0m \u001b[1;33m=\u001b[0m \u001b[0mattributes\u001b[0m\u001b[1;33m.\u001b[0m\u001b[0minstance_state\u001b[0m\u001b[1;33m(\u001b[0m\u001b[0minstance\u001b[0m\u001b[1;33m)\u001b[0m\u001b[1;33m\u001b[0m\u001b[1;33m\u001b[0m\u001b[0m\n\u001b[0m\u001b[0;32m   2600\u001b[0m         \u001b[1;32mexcept\u001b[0m \u001b[0mexc\u001b[0m\u001b[1;33m.\u001b[0m\u001b[0mNO_STATE\u001b[0m \u001b[1;32mas\u001b[0m \u001b[0merr\u001b[0m\u001b[1;33m:\u001b[0m\u001b[1;33m\u001b[0m\u001b[1;33m\u001b[0m\u001b[0m\n",
      "\u001b[1;31mAttributeError\u001b[0m: 'str' object has no attribute '_sa_instance_state'",
      "\nThe above exception was the direct cause of the following exception:\n",
      "\u001b[1;31mUnmappedInstanceError\u001b[0m                     Traceback (most recent call last)",
      "\u001b[1;32m~\\AppData\\Local\\Temp\\ipykernel_46240\\886027501.py\u001b[0m in \u001b[0;36m<module>\u001b[1;34m\u001b[0m\n\u001b[0;32m      2\u001b[0m \u001b[0msession\u001b[0m \u001b[1;33m=\u001b[0m \u001b[0mSession\u001b[0m\u001b[1;33m(\u001b[0m\u001b[0mbind\u001b[0m\u001b[1;33m=\u001b[0m\u001b[0mengine\u001b[0m\u001b[1;33m)\u001b[0m\u001b[1;33m\u001b[0m\u001b[1;33m\u001b[0m\u001b[0m\n\u001b[0;32m      3\u001b[0m \u001b[1;33m\u001b[0m\u001b[0m\n\u001b[1;32m----> 4\u001b[1;33m \u001b[0msession\u001b[0m\u001b[1;33m.\u001b[0m\u001b[0madd\u001b[0m\u001b[1;33m(\u001b[0m\u001b[1;34m\"parksdata\"\u001b[0m\u001b[1;33m)\u001b[0m\u001b[1;33m\u001b[0m\u001b[1;33m\u001b[0m\u001b[0m\n\u001b[0m\u001b[0;32m      5\u001b[0m \u001b[1;33m\u001b[0m\u001b[0m\n\u001b[0;32m      6\u001b[0m \u001b[0msession\u001b[0m\u001b[1;33m.\u001b[0m\u001b[0mcommit\u001b[0m\u001b[1;33m(\u001b[0m\u001b[1;33m)\u001b[0m\u001b[1;33m\u001b[0m\u001b[1;33m\u001b[0m\u001b[0m\n",
      "\u001b[1;32mc:\\Users\\Hannah\\anaconda3\\envs\\PythonData\\lib\\site-packages\\sqlalchemy\\orm\\session.py\u001b[0m in \u001b[0;36madd\u001b[1;34m(self, instance, _warn)\u001b[0m\n\u001b[0;32m   2601\u001b[0m             util.raise_(\n\u001b[0;32m   2602\u001b[0m                 \u001b[0mexc\u001b[0m\u001b[1;33m.\u001b[0m\u001b[0mUnmappedInstanceError\u001b[0m\u001b[1;33m(\u001b[0m\u001b[0minstance\u001b[0m\u001b[1;33m)\u001b[0m\u001b[1;33m,\u001b[0m\u001b[1;33m\u001b[0m\u001b[1;33m\u001b[0m\u001b[0m\n\u001b[1;32m-> 2603\u001b[1;33m                 \u001b[0mreplace_context\u001b[0m\u001b[1;33m=\u001b[0m\u001b[0merr\u001b[0m\u001b[1;33m,\u001b[0m\u001b[1;33m\u001b[0m\u001b[1;33m\u001b[0m\u001b[0m\n\u001b[0m\u001b[0;32m   2604\u001b[0m             )\n\u001b[0;32m   2605\u001b[0m \u001b[1;33m\u001b[0m\u001b[0m\n",
      "\u001b[1;32mc:\\Users\\Hannah\\anaconda3\\envs\\PythonData\\lib\\site-packages\\sqlalchemy\\util\\compat.py\u001b[0m in \u001b[0;36mraise_\u001b[1;34m(***failed resolving arguments***)\u001b[0m\n\u001b[0;32m    205\u001b[0m \u001b[1;33m\u001b[0m\u001b[0m\n\u001b[0;32m    206\u001b[0m         \u001b[1;32mtry\u001b[0m\u001b[1;33m:\u001b[0m\u001b[1;33m\u001b[0m\u001b[1;33m\u001b[0m\u001b[0m\n\u001b[1;32m--> 207\u001b[1;33m             \u001b[1;32mraise\u001b[0m \u001b[0mexception\u001b[0m\u001b[1;33m\u001b[0m\u001b[1;33m\u001b[0m\u001b[0m\n\u001b[0m\u001b[0;32m    208\u001b[0m         \u001b[1;32mfinally\u001b[0m\u001b[1;33m:\u001b[0m\u001b[1;33m\u001b[0m\u001b[1;33m\u001b[0m\u001b[0m\n\u001b[0;32m    209\u001b[0m             \u001b[1;31m# credit to\u001b[0m\u001b[1;33m\u001b[0m\u001b[1;33m\u001b[0m\u001b[1;33m\u001b[0m\u001b[0m\n",
      "\u001b[1;31mUnmappedInstanceError\u001b[0m: Class 'builtins.str' is not mapped"
     ]
    }
   ],
   "source": [
    "from sqlalchemy.orm import Session\n",
    "session = Session(bind=engine)\n",
    "\n",
    "session.add(\"parksdata\")\n",
    "\n",
    "session.commit()"
   ]
  }
 ],
 "metadata": {
  "kernelspec": {
   "display_name": "PythonData",
   "language": "python",
   "name": "pythondata"
  },
  "language_info": {
   "codemirror_mode": {
    "name": "ipython",
    "version": 3
   },
   "file_extension": ".py",
   "mimetype": "text/x-python",
   "name": "python",
   "nbconvert_exporter": "python",
   "pygments_lexer": "ipython3",
   "version": "3.7.7 (default, May  6 2020, 11:45:54) [MSC v.1916 64 bit (AMD64)]"
  }
 },
 "nbformat": 4,
 "nbformat_minor": 5
}
